{
 "cells": [
  {
   "cell_type": "code",
   "execution_count": 1,
   "id": "79f81307",
   "metadata": {},
   "outputs": [
    {
     "data": {
      "text/html": [
       "<div>\n",
       "<style scoped>\n",
       "    .dataframe tbody tr th:only-of-type {\n",
       "        vertical-align: middle;\n",
       "    }\n",
       "\n",
       "    .dataframe tbody tr th {\n",
       "        vertical-align: top;\n",
       "    }\n",
       "\n",
       "    .dataframe thead th {\n",
       "        text-align: right;\n",
       "    }\n",
       "</style>\n",
       "<table border=\"1\" class=\"dataframe\">\n",
       "  <thead>\n",
       "    <tr style=\"text-align: right;\">\n",
       "      <th></th>\n",
       "      <th>open</th>\n",
       "      <th>high</th>\n",
       "      <th>low</th>\n",
       "      <th>close</th>\n",
       "      <th>volume</th>\n",
       "      <th>label</th>\n",
       "    </tr>\n",
       "  </thead>\n",
       "  <tbody>\n",
       "    <tr>\n",
       "      <th>0</th>\n",
       "      <td>36060.5</td>\n",
       "      <td>36060.5</td>\n",
       "      <td>35807.9</td>\n",
       "      <td>35815.6</td>\n",
       "      <td>10.423</td>\n",
       "      <td>0</td>\n",
       "    </tr>\n",
       "    <tr>\n",
       "      <th>1</th>\n",
       "      <td>35815.5</td>\n",
       "      <td>35939.5</td>\n",
       "      <td>35717.3</td>\n",
       "      <td>35722.0</td>\n",
       "      <td>9.339</td>\n",
       "      <td>0</td>\n",
       "    </tr>\n",
       "    <tr>\n",
       "      <th>2</th>\n",
       "      <td>35715.6</td>\n",
       "      <td>35849.5</td>\n",
       "      <td>35715.6</td>\n",
       "      <td>35723.4</td>\n",
       "      <td>3.884</td>\n",
       "      <td>1</td>\n",
       "    </tr>\n",
       "    <tr>\n",
       "      <th>3</th>\n",
       "      <td>35735.1</td>\n",
       "      <td>35735.1</td>\n",
       "      <td>35720.0</td>\n",
       "      <td>35727.6</td>\n",
       "      <td>1.684</td>\n",
       "      <td>0</td>\n",
       "    </tr>\n",
       "    <tr>\n",
       "      <th>4</th>\n",
       "      <td>35727.2</td>\n",
       "      <td>35850.0</td>\n",
       "      <td>35714.0</td>\n",
       "      <td>35831.6</td>\n",
       "      <td>3.474</td>\n",
       "      <td>1</td>\n",
       "    </tr>\n",
       "  </tbody>\n",
       "</table>\n",
       "</div>"
      ],
      "text/plain": [
       "      open     high      low    close  volume  label\n",
       "0  36060.5  36060.5  35807.9  35815.6  10.423      0\n",
       "1  35815.5  35939.5  35717.3  35722.0   9.339      0\n",
       "2  35715.6  35849.5  35715.6  35723.4   3.884      1\n",
       "3  35735.1  35735.1  35720.0  35727.6   1.684      0\n",
       "4  35727.2  35850.0  35714.0  35831.6   3.474      1"
      ]
     },
     "execution_count": 1,
     "metadata": {},
     "output_type": "execute_result"
    }
   ],
   "source": [
    "import pandas as pd\n",
    "import numpy as np\n",
    "\n",
    "btc_df = pd.read_csv('btc_os_cnn_data.csv', parse_dates=['open_time'])\n",
    "btc_df = btc_df.sort_values('open_time').reset_index(drop=True)\n",
    "btc_df = btc_df[['open', 'high', 'low', 'close', 'volume']]\n",
    "btc_df['label'] = (btc_df['open'] < btc_df['close']).astype(int)\n",
    "btc_df.head()"
   ]
  },
  {
   "cell_type": "code",
   "execution_count": 2,
   "id": "d25efe5a",
   "metadata": {},
   "outputs": [
    {
     "name": "stdout",
     "output_type": "stream",
     "text": [
      "127788\n"
     ]
    }
   ],
   "source": [
    "def create_sequences(input_data: pd.DataFrame, target_column, sequence_length):\n",
    "    sequences = []\n",
    "    data_size = len(input_data)\n",
    "    print(data_size)\n",
    "    for i in range(data_size - sequence_length):\n",
    "        seq = input_data[i:i+sequence_length]\n",
    "        label = input_data.iloc[i + sequence_length][target_column]\n",
    "        \n",
    "        ##########################################################################\n",
    "        # I changed this line\n",
    "        ##########################################################################\n",
    "        numpy_train = np.expand_dims(seq.to_numpy().T[0:-1],0)\n",
    "        ##########################################################################\n",
    "\n",
    "        sequences.append((numpy_train, label))\n",
    "    return sequences\n",
    "\n",
    "sequences = create_sequences(btc_df,'label',200)"
   ]
  },
  {
   "cell_type": "code",
   "execution_count": 3,
   "id": "a03e24df",
   "metadata": {},
   "outputs": [
    {
     "name": "stdout",
     "output_type": "stream",
     "text": [
      "(1, 5, 200)\n"
     ]
    }
   ],
   "source": [
    "print(sequences[0][0].shape)"
   ]
  },
  {
   "cell_type": "code",
   "execution_count": 4,
   "id": "2bc30259",
   "metadata": {},
   "outputs": [
    {
     "name": "stdout",
     "output_type": "stream",
     "text": [
      "(127588, 5, 200)\n",
      "(127588,)\n"
     ]
    }
   ],
   "source": [
    "data = np.concatenate([i[0] for i in sequences], axis=0)\n",
    "print(data.shape)\n",
    "label = np.array([i[1] for i in sequences])\n",
    "print(label.shape)"
   ]
  },
  {
   "cell_type": "code",
   "execution_count": 5,
   "id": "540d5866",
   "metadata": {},
   "outputs": [],
   "source": [
    "# I like to save them as numpy then, we don't need to pre-process for each time we run.\n",
    "\n",
    "np.save('data',data)\n",
    "np.save('label',label)"
   ]
  },
  {
   "cell_type": "code",
   "execution_count": 6,
   "id": "1460c723",
   "metadata": {},
   "outputs": [
    {
     "name": "stdout",
     "output_type": "stream",
     "text": [
      "train data shape (102070, 5, 200)\n",
      "train label shape (102070,)\n",
      "test data shape (25517, 5, 200)\n",
      "test label shape (25517,)\n",
      "unique train label [0 1]\n",
      "unique test label [0 1]\n"
     ]
    }
   ],
   "source": [
    "# load data\n",
    "data = np.float32(np.load('./data.npy'))\n",
    "label = np.int64(np.load('./label.npy'))\n",
    "\n",
    "\n",
    "# 80% as train data, and 20% as test data\n",
    "train_ration = 0.8\n",
    "cut = int(train_ration*data.shape[0])\n",
    "\n",
    "\n",
    "X_train = data[0:cut]\n",
    "y_train = label[0:cut]\n",
    "X_test = data[cut:-1]\n",
    "y_test = label[cut:-1]\n",
    "    \n",
    "print('train data shape', X_train.shape)\n",
    "print('train label shape',y_train.shape)\n",
    "print('test data shape',X_test.shape)\n",
    "print('test label shape',y_test.shape)\n",
    "\n",
    "print('unique train label',np.unique(y_train))\n",
    "print('unique test label',np.unique(y_test))"
   ]
  },
  {
   "cell_type": "code",
   "execution_count": null,
   "id": "f4a17dde",
   "metadata": {},
   "outputs": [],
   "source": []
  }
 ],
 "metadata": {
  "kernelspec": {
   "display_name": "Python 3",
   "language": "python",
   "name": "python3"
  },
  "language_info": {
   "codemirror_mode": {
    "name": "ipython",
    "version": 3
   },
   "file_extension": ".py",
   "mimetype": "text/x-python",
   "name": "python",
   "nbconvert_exporter": "python",
   "pygments_lexer": "ipython3",
   "version": "3.8.10"
  }
 },
 "nbformat": 4,
 "nbformat_minor": 5
}
